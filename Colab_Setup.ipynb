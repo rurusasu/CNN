{
  "nbformat": 4,
  "nbformat_minor": 0,
  "metadata": {
    "colab": {
      "name": "Colab_Setup.ipynb",
      "provenance": [],
      "collapsed_sections": [],
      "authorship_tag": "ABX9TyOrilhH7RspHJRdaI7ltkTE",
      "include_colab_link": true
    },
    "kernelspec": {
      "name": "python3",
      "display_name": "Python 3"
    },
    "language_info": {
      "name": "python"
    },
    "accelerator": "GPU"
  },
  "cells": [
    {
      "cell_type": "markdown",
      "metadata": {
        "id": "view-in-github",
        "colab_type": "text"
      },
      "source": [
        "<a href=\"https://colab.research.google.com/github/rurusasu/CNN/blob/master/Colab_Setup.ipynb\" target=\"_parent\"><img src=\"https://colab.research.google.com/assets/colab-badge.svg\" alt=\"Open In Colab\"/></a>"
      ]
    },
    {
      "cell_type": "markdown",
      "source": [
        "# Colab と VS Code を使って python の開発環境を構築する際に使用するスクリプト\n",
        "\n",
        "REF: [Google ColabとVSCodeを用いた分析環境運用方法 〜kaggle Tipsを添えて〜](https://www.takapy.work/entry/2021/08/17/185047)"
      ],
      "metadata": {
        "id": "tAGVepF03Oh6"
      }
    },
    {
      "cell_type": "code",
      "execution_count": 3,
      "metadata": {
        "colab": {
          "base_uri": "https://localhost:8080/"
        },
        "id": "OvgSOsmq2PVT",
        "outputId": "a6050861-8b42-4315-8d7f-da1efdbb06d8"
      },
      "outputs": [
        {
          "output_type": "stream",
          "name": "stdout",
          "text": [
            "DISTRIB_ID=Ubuntu\n",
            "DISTRIB_RELEASE=18.04\n",
            "DISTRIB_CODENAME=bionic\n",
            "DISTRIB_DESCRIPTION=\"Ubuntu 18.04.5 LTS\"\n",
            "nvcc: NVIDIA (R) Cuda compiler driver\n",
            "Copyright (c) 2005-2020 NVIDIA Corporation\n",
            "Built on Mon_Oct_12_20:09:46_PDT_2020\n",
            "Cuda compilation tools, release 11.1, V11.1.105\n",
            "Build cuda_11.1.TC455_06.29190527_0\n",
            "Fri Mar  4 06:05:49 2022       \n",
            "+-----------------------------------------------------------------------------+\n",
            "| NVIDIA-SMI 460.32.03    Driver Version: 460.32.03    CUDA Version: 11.2     |\n",
            "|-------------------------------+----------------------+----------------------+\n",
            "| GPU  Name        Persistence-M| Bus-Id        Disp.A | Volatile Uncorr. ECC |\n",
            "| Fan  Temp  Perf  Pwr:Usage/Cap|         Memory-Usage | GPU-Util  Compute M. |\n",
            "|                               |                      |               MIG M. |\n",
            "|===============================+======================+======================|\n",
            "|   0  Tesla T4            Off  | 00000000:00:04.0 Off |                    0 |\n",
            "| N/A   41C    P8     9W /  70W |      0MiB / 15109MiB |      0%      Default |\n",
            "|                               |                      |                  N/A |\n",
            "+-------------------------------+----------------------+----------------------+\n",
            "                                                                               \n",
            "+-----------------------------------------------------------------------------+\n",
            "| Processes:                                                                  |\n",
            "|  GPU   GI   CI        PID   Type   Process name                  GPU Memory |\n",
            "|        ID   ID                                                   Usage      |\n",
            "|=============================================================================|\n",
            "|  No running processes found                                                 |\n",
            "+-----------------------------------------------------------------------------+\n"
          ]
        }
      ],
      "source": [
        "!cat /etc/lsb-release\n",
        "!nvcc -V\n",
        "!nvidia-smi"
      ]
    },
    {
      "cell_type": "markdown",
      "source": [
        "# ngrok のインストール・設定"
      ],
      "metadata": {
        "id": "ll_jAjxWPXU9"
      }
    },
    {
      "cell_type": "code",
      "source": [
        "!apt-get -y update\n",
        "\n",
        "!wget -q -c -nc https://bin.equinox.io/c/4VmDzA7iaHb/ngrok-stable-linux-amd64.zip\n",
        "!unzip -qq -n ngrok-stable-linux-amd64.zip\n",
        "\n",
        "# sshの設定\n",
        "!apt-get install -qq -o=Dpkg::Use-Pty=0 openssh-server pwgen > /dev/null"
      ],
      "metadata": {
        "colab": {
          "base_uri": "https://localhost:8080/"
        },
        "id": "v7eoTuGsOTv4",
        "outputId": "e2606f27-68a2-495e-b776-865edeae2f40"
      },
      "execution_count": 4,
      "outputs": [
        {
          "output_type": "stream",
          "name": "stdout",
          "text": [
            "\r0% [Working]\r            \rGet:1 http://security.ubuntu.com/ubuntu bionic-security InRelease [88.7 kB]\n",
            "\r0% [Connecting to archive.ubuntu.com (91.189.88.152)] [1 InRelease 14.2 kB/88.7\r                                                                               \rGet:2 https://cloud.r-project.org/bin/linux/ubuntu bionic-cran40/ InRelease [3,626 B]\n",
            "\r0% [Connecting to archive.ubuntu.com (91.189.88.152)] [1 InRelease 14.2 kB/88.7\r0% [2 InRelease gpgv 3,626 B] [Connecting to archive.ubuntu.com (91.189.88.152)\r0% [2 InRelease gpgv 3,626 B] [Connecting to archive.ubuntu.com (91.189.88.152)\r                                                                               \rIgn:3 https://developer.download.nvidia.com/compute/cuda/repos/ubuntu1804/x86_64  InRelease\n",
            "\r0% [2 InRelease gpgv 3,626 B] [Waiting for headers] [Connecting to ppa.launchpa\r                                                                               \rHit:4 http://archive.ubuntu.com/ubuntu bionic InRelease\n",
            "Ign:5 https://developer.download.nvidia.com/compute/machine-learning/repos/ubuntu1804/x86_64  InRelease\n",
            "Get:6 https://developer.download.nvidia.com/compute/cuda/repos/ubuntu1804/x86_64  Release [696 B]\n",
            "Get:7 http://ppa.launchpad.net/c2d4u.team/c2d4u4.0+/ubuntu bionic InRelease [15.9 kB]\n",
            "Get:8 https://cloud.r-project.org/bin/linux/ubuntu bionic-cran40/ Packages [76.8 kB]\n",
            "Get:9 http://archive.ubuntu.com/ubuntu bionic-updates InRelease [88.7 kB]\n",
            "Hit:10 https://developer.download.nvidia.com/compute/machine-learning/repos/ubuntu1804/x86_64  Release\n",
            "Get:11 https://developer.download.nvidia.com/compute/cuda/repos/ubuntu1804/x86_64  Release.gpg [836 B]\n",
            "Get:12 http://security.ubuntu.com/ubuntu bionic-security/main amd64 Packages [2,596 kB]\n",
            "Hit:13 http://ppa.launchpad.net/cran/libgit2/ubuntu bionic InRelease\n",
            "Get:14 http://archive.ubuntu.com/ubuntu bionic-backports InRelease [74.6 kB]\n",
            "Get:15 http://security.ubuntu.com/ubuntu bionic-security/restricted amd64 Packages [806 kB]\n",
            "Get:16 http://security.ubuntu.com/ubuntu bionic-security/universe amd64 Packages [1,474 kB]\n",
            "Hit:17 http://ppa.launchpad.net/deadsnakes/ppa/ubuntu bionic InRelease\n",
            "Get:18 http://ppa.launchpad.net/graphics-drivers/ppa/ubuntu bionic InRelease [21.3 kB]\n",
            "Get:20 https://developer.download.nvidia.com/compute/cuda/repos/ubuntu1804/x86_64  Packages [931 kB]\n",
            "Get:21 http://ppa.launchpad.net/c2d4u.team/c2d4u4.0+/ubuntu bionic/main Sources [1,827 kB]\n",
            "Get:22 http://archive.ubuntu.com/ubuntu bionic-updates/main amd64 Packages [3,036 kB]\n",
            "Get:23 http://archive.ubuntu.com/ubuntu bionic-updates/restricted amd64 Packages [840 kB]\n",
            "Get:24 http://archive.ubuntu.com/ubuntu bionic-updates/universe amd64 Packages [2,252 kB]\n",
            "Get:25 http://ppa.launchpad.net/c2d4u.team/c2d4u4.0+/ubuntu bionic/main amd64 Packages [936 kB]\n",
            "Get:26 http://ppa.launchpad.net/graphics-drivers/ppa/ubuntu bionic/main amd64 Packages [42.8 kB]\n",
            "Fetched 15.1 MB in 3s (5,304 kB/s)\n",
            "Reading package lists... Done\n",
            "\n",
            "Creating config file /etc/ssh/sshd_config with new version\n",
            "Creating SSH2 RSA key; this may take some time ...\n",
            "2048 SHA256:tgoGX6HKcnmoBJAq+kBcGEBvIfCZpgOQjtQ6clxfJ+4 root@3570ecfe6018 (RSA)\n",
            "Creating SSH2 ECDSA key; this may take some time ...\n",
            "256 SHA256:a6mkeyo5E8plb8WwE4fSfZIRcC5FgVt8ALpX8FJhDPM root@3570ecfe6018 (ECDSA)\n",
            "Creating SSH2 ED25519 key; this may take some time ...\n",
            "256 SHA256:GFZZm9vu4Z5RHuWTCeE1XQnorbHkqQRPfnW8iXbEt64 root@3570ecfe6018 (ED25519)\n",
            "Created symlink /etc/systemd/system/sshd.service → /lib/systemd/system/ssh.service.\n",
            "Created symlink /etc/systemd/system/multi-user.target.wants/ssh.service → /lib/systemd/system/ssh.service.\n",
            "invoke-rc.d: could not determine current runlevel\n",
            "invoke-rc.d: policy-rc.d denied execution of start.\n"
          ]
        }
      ]
    },
    {
      "cell_type": "markdown",
      "source": [
        "# ssh サーバーの起動"
      ],
      "metadata": {
        "id": "lYLYeI15QBO4"
      }
    },
    {
      "cell_type": "code",
      "source": [
        "import random, string\n",
        "\n",
        "# Generate root password\n",
        "password = ''.join(random.choice(string.ascii_letters + string.digits) for i in range(20))\n",
        "\n",
        "# Set root password\n",
        "!echo root:$password | chpasswd\n",
        "!mkdir -p /var/run/sshd\n",
        "!echo \"PermitRootLogin yes\" >> /etc/ssh/sshd_config\n",
        "!echo \"PasswordAuthentication yes\" >> /etc/ssh/sshd_config\n",
        "!echo \"LD_LIBRARY_PATH=/usr/lib64-nvidia\" >> /root/.bashrc\n",
        "!echo \"export LD_LIBRARY_PATH\" >> /root/.bashrc\n",
        "\n",
        "# Run sshd\n",
        "get_ipython().system_raw('/usr/sbin/sshd -D &')\n",
        "\n",
        "# アクセストークンの設定\n",
        "# https://dashboard.ngrok.com/auth/your-authtoken\n",
        "# authtoken=\"取得したYour Authtokenの値\"\n",
        "authtoken = \"25sK8o5a2l937Xqh6wSfYZaUOTY_3S7rba6ghRjFi3tndyW6k\"\n",
        "\n",
        "# Create tunnel\n",
        "get_ipython().system_raw('./ngrok authtoken $authtoken && ./ngrok tcp 22 &')"
      ],
      "metadata": {
        "id": "idXh284jPU1H"
      },
      "execution_count": 13,
      "outputs": []
    },
    {
      "cell_type": "markdown",
      "source": [
        "# Colab サーバーの環境設定"
      ],
      "metadata": {
        "id": "hslBXTiQhpR_"
      }
    },
    {
      "cell_type": "code",
      "source": [
        "# シンボリックリンクを作成\n",
        "!ln -sfn /content/drive/MyDrive/workspace /root/workspace\n",
        "\n",
        "# zshのインストール\n",
        "!sudo apt-get install zsh\n",
        "\n",
        "# oh-my-zshのインストール\n",
        "!wget https://github.com/robbyrussell/oh-my-zsh/raw/master/tools/install.sh -O - | zsh || true\n",
        "\n",
        "# zshをデフォルトに設定\n",
        "!chsh -s /usr/bin/zsh\n",
        "\n",
        "# bashファイルの作成\n",
        "!echo 'export PATH=/usr/local/cuda/bin:$PATH' >> /root/.bash_profile\n",
        "!echo 'export LD_LIBRARY_PATH=/usr/lib64-nvidia' >> /root/.bash_profile\n",
        "!echo 'export PROMPT_COMMAND=\"history -a\"' >> /root/.bash_profile\n",
        "!echo 'export HISTFILE=/root/.zsh-history' >> /root/.bash_profile\n",
        "!echo 'export PYTHONDONTWRITEBYTECODE=1' >> /root/.bash_profile\n",
        "!echo 'export TF_CPP_MIN_LOG_LEVEL=2' >> /root/.bash_profile\n",
        "\n",
        "# ファイルをgoogle driveからサーバーへコピー\n",
        "!cp /content/drive/MyDrive/workspace/.gitconfig .gitconfig\n",
        "!cp /content/drive/MyDrive/workspace/.zshrc .zshrc"
      ],
      "metadata": {
        "colab": {
          "base_uri": "https://localhost:8080/"
        },
        "id": "70d0X1RqQGBn",
        "outputId": "2a459841-a23d-49ba-bc35-1d71e9ba4089"
      },
      "execution_count": 1,
      "outputs": [
        {
          "output_type": "stream",
          "name": "stdout",
          "text": [
            "Reading package lists... Done\n",
            "Building dependency tree       \n",
            "Reading state information... Done\n",
            "The following package was automatically installed and is no longer required:\n",
            "  libnvidia-common-470\n",
            "Use 'sudo apt autoremove' to remove it.\n",
            "The following additional packages will be installed:\n",
            "  zsh-common\n",
            "Suggested packages:\n",
            "  zsh-doc\n",
            "The following NEW packages will be installed:\n",
            "  zsh zsh-common\n",
            "0 upgraded, 2 newly installed, 0 to remove and 39 not upgraded.\n",
            "Need to get 4,066 kB of archives.\n",
            "After this operation, 15.2 MB of additional disk space will be used.\n",
            "Get:1 http://archive.ubuntu.com/ubuntu bionic-updates/main amd64 zsh-common all 5.4.2-3ubuntu3.1 [3,376 kB]\n",
            "Get:2 http://archive.ubuntu.com/ubuntu bionic-updates/main amd64 zsh amd64 5.4.2-3ubuntu3.1 [690 kB]\n",
            "Fetched 4,066 kB in 1s (4,777 kB/s)\n",
            "debconf: unable to initialize frontend: Dialog\n",
            "debconf: (No usable dialog-like program is installed, so the dialog based frontend cannot be used. at /usr/share/perl5/Debconf/FrontEnd/Dialog.pm line 76, <> line 2.)\n",
            "debconf: falling back to frontend: Readline\n",
            "debconf: unable to initialize frontend: Readline\n",
            "debconf: (This frontend requires a controlling tty.)\n",
            "debconf: falling back to frontend: Teletype\n",
            "dpkg-preconfigure: unable to re-open stdin: \n",
            "Selecting previously unselected package zsh-common.\n",
            "(Reading database ... 155320 files and directories currently installed.)\n",
            "Preparing to unpack .../zsh-common_5.4.2-3ubuntu3.1_all.deb ...\n",
            "Unpacking zsh-common (5.4.2-3ubuntu3.1) ...\n",
            "Selecting previously unselected package zsh.\n",
            "Preparing to unpack .../zsh_5.4.2-3ubuntu3.1_amd64.deb ...\n",
            "Unpacking zsh (5.4.2-3ubuntu3.1) ...\n",
            "Setting up zsh-common (5.4.2-3ubuntu3.1) ...\n",
            "Setting up zsh (5.4.2-3ubuntu3.1) ...\n",
            "Processing triggers for man-db (2.8.3-2ubuntu0.1) ...\n",
            "--2022-03-04 06:03:55--  https://github.com/robbyrussell/oh-my-zsh/raw/master/tools/install.sh\n",
            "Resolving github.com (github.com)... 140.82.112.3\n",
            "Connecting to github.com (github.com)|140.82.112.3|:443... connected.\n",
            "HTTP request sent, awaiting response... 301 Moved Permanently\n",
            "Location: https://github.com/ohmyzsh/ohmyzsh/raw/master/tools/install.sh [following]\n",
            "--2022-03-04 06:03:55--  https://github.com/ohmyzsh/ohmyzsh/raw/master/tools/install.sh\n",
            "Reusing existing connection to github.com:443.\n",
            "HTTP request sent, awaiting response... 302 Found\n",
            "Location: https://raw.githubusercontent.com/ohmyzsh/ohmyzsh/master/tools/install.sh [following]\n",
            "--2022-03-04 06:03:55--  https://raw.githubusercontent.com/ohmyzsh/ohmyzsh/master/tools/install.sh\n",
            "Resolving raw.githubusercontent.com (raw.githubusercontent.com)... 185.199.108.133, 185.199.110.133, 185.199.109.133, ...\n",
            "Connecting to raw.githubusercontent.com (raw.githubusercontent.com)|185.199.108.133|:443... connected.\n",
            "HTTP request sent, awaiting response... 200 OK\n",
            "Length: 16783 (16K) [text/plain]\n",
            "Saving to: ‘STDOUT’\n",
            "\n",
            "-                   100%[===================>]  16.39K  --.-KB/s    in 0s      \n",
            "\n",
            "2022-03-04 06:03:55 (139 MB/s) - written to stdout [16783/16783]\n",
            "\n",
            "\u001b[34mCloning Oh My Zsh...\u001b[0m\n",
            "remote: Enumerating objects: 1297, done.\u001b[K\n",
            "remote: Counting objects: 100% (1297/1297), done.\u001b[K\n",
            "remote: Compressing objects: 100% (1253/1253), done.\u001b[K\n",
            "remote: Total 1297 (delta 25), reused 1045 (delta 24), pack-reused 0\u001b[K\n",
            "Receiving objects: 100% (1297/1297), 1.08 MiB | 19.34 MiB/s, done.\n",
            "Resolving deltas: 100% (25/25), done.\n",
            "From https://github.com/ohmyzsh/ohmyzsh\n",
            " * [new branch]      master     -> origin/master\n",
            "Branch 'master' set up to track remote branch 'master' from 'origin'.\n",
            "Already on 'master'\n",
            "\n",
            "\u001b[34mLooking for an existing zsh config...\u001b[0m\n",
            "\u001b[32mUsing the Oh My Zsh template file and adding it to ~/.zshrc.\u001b[0m\n",
            "\n",
            "\n",
            "      \u001b[38;5;196m\n",
            "      \u001b[38;5;202m\n",
            "      \u001b[38;5;226m\n",
            "      \u001b[38;5;082m\n",
            "      \u001b[38;5;021m\n",
            "      \u001b[38;5;093m\n",
            "      \u001b[38;5;163m\n",
            "             \u001b[0m__                                     __   \n",
            "\n",
            "      \u001b[38;5;196m\n",
            "      \u001b[38;5;202m\n",
            "      \u001b[38;5;226m\n",
            "      \u001b[38;5;082m\n",
            "      \u001b[38;5;021m\n",
            "      \u001b[38;5;093m\n",
            "      \u001b[38;5;163m\n",
            "      ____  \u001b[0m/ /_     ____ ___  __  __   ____  _____/ /_  \n",
            "\n",
            "      \u001b[38;5;196m\n",
            "      \u001b[38;5;202m\n",
            "      \u001b[38;5;226m\n",
            "      \u001b[38;5;082m\n",
            "      \u001b[38;5;021m\n",
            "      \u001b[38;5;093m\n",
            "      \u001b[38;5;163m\n",
            "     / __ \\\u001b[0m/ __ \\   / __ `__ \\/ / / /  /_  / / ___/ __ \\ \n",
            "\n",
            "      \u001b[38;5;196m\n",
            "      \u001b[38;5;202m\n",
            "      \u001b[38;5;226m\n",
            "      \u001b[38;5;082m\n",
            "      \u001b[38;5;021m\n",
            "      \u001b[38;5;093m\n",
            "      \u001b[38;5;163m\n",
            "    / /_/ /\u001b[0m / / /  / / / / / / /_/ /    / /_(__  ) / / / \n",
            "\n",
            "      \u001b[38;5;196m\n",
            "      \u001b[38;5;202m\n",
            "      \u001b[38;5;226m\n",
            "      \u001b[38;5;082m\n",
            "      \u001b[38;5;021m\n",
            "      \u001b[38;5;093m\n",
            "      \u001b[38;5;163m\n",
            "    \\____/\u001b[0m_/ /_/  /_/ /_/ /_/\\__, /    /___/____/_/ /_/  \n",
            "\n",
            "      \u001b[38;5;196m\n",
            "      \u001b[38;5;202m\n",
            "      \u001b[38;5;226m\n",
            "      \u001b[38;5;082m\n",
            "      \u001b[38;5;021m\n",
            "      \u001b[38;5;093m\n",
            "      \u001b[38;5;163m\n",
            "        \u001b[32m        \u001b[0m            /____/                       ....is now installed!\n",
            "\n",
            "\n",
            "Before you scream \u001b[1m\u001b[33mOh My Zsh!\u001b[0m look over the `\u001b[2m.zshrc\u001b[22m` file to select plugins, themes, and options.\n",
            "\n",
            "• Follow us on Twitter: \u001b[4mhttps://twitter.com/ohmyzsh\u001b[24m\n",
            "• Join our Discord community: \u001b[4mhttps://discord.gg/ohmyzsh\u001b[24m\n",
            "• Get stickers, t-shirts, coffee mugs and more: \u001b[4mhttps://shop.planetargon.com/collections/oh-my-zsh\u001b[24m\n",
            "\u001b[0m\n",
            "\u001b[33mRun zsh to try it out.\u001b[0m\n",
            "cp: cannot stat '/content/drive/MyDrive/workspace/.gitconfig': No such file or directory\n",
            "cp: cannot stat '/content/drive/MyDrive/workspace/.zshrc': No such file or directory\n"
          ]
        }
      ]
    },
    {
      "cell_type": "code",
      "source": [
        "# 接続情報の取得"
      ],
      "metadata": {
        "id": "bUjitt9fh_xG"
      },
      "execution_count": null,
      "outputs": []
    },
    {
      "cell_type": "code",
      "source": [
        "import urllib.request, json, getpass\n",
        "# Get public address and print connect command\n",
        "with urllib.request.urlopen('http://localhost:4040/api/tunnels') as response:\n",
        "  data = json.loads(response.read().decode())\n",
        "  (host, port) = data['tunnels'][0]['public_url'][6:].split(':')\n",
        "\n",
        "print(f\"\"\"Host google-colab-ssh\n",
        "HostName {host}\n",
        "Port {port}\n",
        "User root\n",
        "\"\"\")\n",
        "\n",
        "# Print root password\n",
        "print(f'Root password: {password}')"
      ],
      "metadata": {
        "colab": {
          "base_uri": "https://localhost:8080/"
        },
        "id": "Gduk1iLgh9B7",
        "outputId": "1db963d0-396f-413c-95b7-5b092431003c"
      },
      "execution_count": 14,
      "outputs": [
        {
          "output_type": "stream",
          "name": "stdout",
          "text": [
            "Host google-colab-ssh\n",
            "HostName 2.tcp.ngrok.io\n",
            "Port 12408\n",
            "User root\n",
            "\n",
            "Root password: IIJTgcDu9ypYSe1ZJ9mr\n"
          ]
        }
      ]
    }
  ]
}